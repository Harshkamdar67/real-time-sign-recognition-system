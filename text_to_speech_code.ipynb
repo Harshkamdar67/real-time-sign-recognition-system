{
 "cells": [
  {
   "cell_type": "code",
   "execution_count": 3,
   "metadata": {},
   "outputs": [],
   "source": [
    "def speech(mytext):\n",
    "    # to speech conversion\n",
    "    from gtts import gTTS\n",
    "\n",
    "    # This module is imported so that we can\n",
    "    # play the converted audio\n",
    "    import os\n",
    "    \n",
    "    # Language in which you want to convert\n",
    "    language = 'en'\n",
    "\n",
    "    myobj = gTTS(text=mytext, lang=language, slow=False)\n",
    "\n",
    "    # Saving the converted audio in a mp3 file named\n",
    "    # audio\n",
    "    myobj.save(\"audio.mp3\")\n",
    "    os.system(\"audio.mp3\")\n"
   ]
  },
  {
   "cell_type": "code",
   "execution_count": null,
   "metadata": {},
   "outputs": [],
   "source": []
  }
 ],
 "metadata": {
  "kernelspec": {
   "display_name": "Python 3.10.0 64-bit",
   "language": "python",
   "name": "python3"
  },
  "language_info": {
   "codemirror_mode": {
    "name": "ipython",
    "version": 3
   },
   "file_extension": ".py",
   "mimetype": "text/x-python",
   "name": "python",
   "nbconvert_exporter": "python",
   "pygments_lexer": "ipython3",
   "version": "3.10.0"
  },
  "orig_nbformat": 4,
  "vscode": {
   "interpreter": {
    "hash": "94133a3f85babb63055940c6390102746a71cdc6aba789fdba456b77e0bda27b"
   }
  }
 },
 "nbformat": 4,
 "nbformat_minor": 2
}
